{
  "nbformat": 4,
  "nbformat_minor": 0,
  "metadata": {
    "colab": {
      "name": "data_download.ipynb",
      "provenance": [],
      "collapsed_sections": [],
      "authorship_tag": "ABX9TyPdGeBzxgV6ABafladKq91V",
      "include_colab_link": true
    },
    "kernelspec": {
      "name": "python3",
      "display_name": "Python 3"
    },
    "language_info": {
      "name": "python"
    }
  },
  "cells": [
    {
      "cell_type": "markdown",
      "metadata": {
        "id": "view-in-github",
        "colab_type": "text"
      },
      "source": [
        "<a href=\"https://colab.research.google.com/github/AntoinePinto/plane-classification/blob/main/notebooks/data_download.ipynb\" target=\"_parent\"><img src=\"https://colab.research.google.com/assets/colab-badge.svg\" alt=\"Open In Colab\"/></a>"
      ]
    },
    {
      "cell_type": "code",
      "execution_count": 1,
      "metadata": {
        "colab": {
          "base_uri": "https://localhost:8080/"
        },
        "id": "0M9mp89B6Sv_",
        "outputId": "1ddce593-0bcb-41cb-b252-2d1c3657d589"
      },
      "outputs": [
        {
          "output_type": "stream",
          "name": "stdout",
          "text": [
            "  % Total    % Received % Xferd  Average Speed   Time    Time     Time  Current\n",
            "                                 Dload  Upload   Total   Spent    Left  Speed\n",
            "100 2625M  100 2625M    0     0  7976k      0  0:05:37  0:05:37 --:--:-- 8511k\n"
          ]
        }
      ],
      "source": [
        "# curl : download data and save to file\n",
        "!curl -O https://www.robots.ox.ac.uk/~vgg/data/fgvc-aircraft/archives/fgvc-aircraft-2013b.tar.gz"
      ]
    },
    {
      "cell_type": "code",
      "source": [
        "#Fichier tar commande:\n",
        "# x : extraire\n",
        "# t : lister \n",
        "# v : pour avoir du detail\n",
        "# z : le fichier est compressé\n",
        "# c : créer un tarfile\n",
        "# f : indiquer le nom du fichier\n",
        "\n",
        "# Exemple pour lister les fichiers\n",
        "!tar tzvf fgvc-aircraft-2013b.tar.gz"
      ],
      "metadata": {
        "id": "oYNtXDn77VY_"
      },
      "execution_count": null,
      "outputs": []
    },
    {
      "cell_type": "code",
      "source": [
        "!tar xzf fgvc-aircraft-2013b.tar.gz"
      ],
      "metadata": {
        "id": "fsCj5VY4_FG8"
      },
      "execution_count": 2,
      "outputs": []
    }
  ]
}