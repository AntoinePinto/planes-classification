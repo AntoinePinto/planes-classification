{
  "nbformat": 4,
  "nbformat_minor": 0,
  "metadata": {
    "colab": {
      "name": "train_classification_model.ipynb",
      "provenance": [],
      "collapsed_sections": []
    },
    "kernelspec": {
      "name": "python3",
      "display_name": "Python 3"
    },
    "language_info": {
      "name": "python"
    },
    "accelerator": "TPU"
  },
  "cells": [
    {
      "cell_type": "code",
      "execution_count": null,
      "metadata": {
        "colab": {
          "base_uri": "https://localhost:8080/"
        },
        "id": "VgmaCkAMYtDe",
        "outputId": "bcff3fe6-5f24-4f71-e7f6-3c3000f50c6a"
      },
      "outputs": [
        {
          "output_type": "stream",
          "name": "stdout",
          "text": [
            "  % Total    % Received % Xferd  Average Speed   Time    Time     Time  Current\n",
            "                                 Dload  Upload   Total   Spent    Left  Speed\n",
            "100 2625M  100 2625M    0     0  28.1M      0  0:01:33  0:01:33 --:--:-- 28.5M\n"
          ]
        }
      ],
      "source": [
        "!curl -O https://www.robots.ox.ac.uk/~vgg/data/fgvc-aircraft/archives/fgvc-aircraft-2013b.tar.gz\n",
        "!tar xzf fgvc-aircraft-2013b.tar.gz\n",
        "!mv fgvc-aircraft-2013b dataset"
      ]
    },
    {
      "cell_type": "markdown",
      "source": [
        "# Importation"
      ],
      "metadata": {
        "id": "E9KEEr-SqTW1"
      }
    },
    {
      "cell_type": "code",
      "source": [
        "import datetime\n",
        "import pathlib\n",
        "\n",
        "import joblib\n",
        "import matplotlib.pyplot as plt\n",
        "import numpy as np\n",
        "import pandas as pd\n",
        "import pickle\n",
        "import seaborn as sns\n",
        "import tensorflow as tf\n",
        "import yaml\n",
        "\n",
        "from keras.models import Sequential, load_model\n",
        "from keras.layers import Conv2D, MaxPool2D, Dense, Flatten, Dropout\n",
        "from PIL import Image\n",
        "from sklearn.preprocessing import StandardScaler\n",
        "from sklearn.decomposition import PCA\n",
        "from sklearn.svm import SVC\n",
        "from sklearn.pipeline import Pipeline"
      ],
      "metadata": {
        "id": "MpYIMjSYZMLQ"
      },
      "execution_count": null,
      "outputs": []
    },
    {
      "cell_type": "markdown",
      "source": [
        "From a the file `parameter.yaml`, I import name of the target variable, the paths used and the size of the images in input."
      ],
      "metadata": {
        "id": "dAMTMahM_l_u"
      }
    },
    {
      "cell_type": "code",
      "source": [
        "with open('parameters.yaml') as file:\n",
        "    P = yaml.load(file)\n",
        "\n",
        "TARGET_NAME = P['TARGET_NAME']\n",
        "DATA_DIR = pathlib.Path(P['DIR']['DATA_DIR'])\n",
        "MODELS_DIR = pathlib.Path(P['DIR']['MODELS_DIR'])\n",
        "IMAGE_WIDTH = P['IMAGE_DIM']['IMAGE_WIDTH']\n",
        "IMAGE_HEIGHT = P['IMAGE_DIM']['IMAGE_HEIGHT']\n",
        "IMAGE_DEPTH = P['IMAGE_DIM']['IMAGE_DEPTH']"
      ],
      "metadata": {
        "id": "LSpA_Bqvexr3"
      },
      "execution_count": null,
      "outputs": []
    },
    {
      "cell_type": "markdown",
      "source": [
        "The function `p` is only useful to manage the verbose. It is used to display the time of the comments allowing the user to observe the progress of the code."
      ],
      "metadata": {
        "id": "7L-3xYzL__QM"
      }
    },
    {
      "cell_type": "code",
      "source": [
        "def p(msg, lvl):\n",
        "  d = datetime.datetime.now().strftime(\"%d/%m/%Y %H:%M:%S\")\n",
        "  return print(d, \"\\t\"*lvl, msg)"
      ],
      "metadata": {
        "id": "mM4mNpXwl5oC"
      },
      "execution_count": null,
      "outputs": []
    },
    {
      "cell_type": "markdown",
      "source": [
        "The function `build_x_and_y` allows to create the set of features and the dependent variable. It also resizes images and the argument `two_dim` allows to specify if the model used needs a two dimensional set of features or not (for a SVM model for example)."
      ],
      "metadata": {
        "id": "pzNj_8ylAdKm"
      }
    },
    {
      "cell_type": "code",
      "source": [
        "def build_x_and_y(path, target, width, height, two_dim = False):\n",
        "  \"\"\"Build x tensor and y tensor for model fitting.\n",
        "\n",
        "  Parameters\n",
        "  ----------\n",
        "  path (Path): path pattern to read csv file containing images information.\n",
        "  target (str): name of the target column.\n",
        "  width (int): width of the resized image.\n",
        "  height (int): height of the resized image.\n",
        "  two_dim (bool): indicate if the features must be returned into a two dimensional set\n",
        "\n",
        "  Returns\n",
        "  -------\n",
        "  X (np.array): tensor of x values.\n",
        "  Y (np.array): tensor of y values.\n",
        "  label (pd.Series): label corresponding to the y values\n",
        "  \"\"\"\n",
        "  p(f\"Building X and Y from the path : {path}\", 1)\n",
        "  p(\"Loading data\", 2)\n",
        "  _df = pd.read_csv(path, sep='\\t', names=['all'], dtype={'all': str})\n",
        "\n",
        "  p(f\"Creation of classes {target}\", 2)\n",
        "  _df['image_id'] = _df['all'].apply(lambda x: x.split(' ')[0])\n",
        "  _df[target] = _df['all'].apply(lambda x: ' '.join(x.split(' ')[1:]))\n",
        "\n",
        "  p(\"Importing image paths\", 2)\n",
        "  _df['path'] = _df['image_id'].apply(lambda x: pathlib.Path('dataset/data/images') / (x + '.jpg'))\n",
        "\n",
        "  p(f\"Resizing images (width = {width}, height = {height})\", 2)\n",
        "  _df['resized_image'] = _df.apply(lambda r: np.array(Image.open(r['path']).resize((width, height))), axis=1)\n",
        "\n",
        "  p(f\"Creation of X and Y\", 2)\n",
        "  X = np.array(_df['resized_image'].to_list())\n",
        "  Y = tf.keras.utils.to_categorical(_df[target].astype('category').cat.codes)\n",
        "  labels = _df[target]\n",
        "\n",
        "  if two_dim:\n",
        "    X = X.reshape(len(X), -1)\n",
        "    Y = np.array(labels)\n",
        "\n",
        "  p(f\"...X and Y created !\", 1)\n",
        "  return X, Y, labels"
      ],
      "metadata": {
        "id": "IQ-oAOTYF37l"
      },
      "execution_count": null,
      "outputs": []
    },
    {
      "cell_type": "markdown",
      "source": [
        "The function `build_classification_model` allows to create a classification model from a specific convolutional neural network."
      ],
      "metadata": {
        "id": "g36GgaM1BZVR"
      }
    },
    {
      "cell_type": "code",
      "source": [
        "def build_classification_model(X, Y):\n",
        "  \"\"\"Build a TF model using set of features and labels\n",
        "\n",
        "  Parameters\n",
        "  ----------\n",
        "  X (np.array): tensor of x values.\n",
        "  Y (np.array): tensor of y values.\n",
        "\n",
        "  Returns\n",
        "  -------\n",
        "  TF model built and compiled\n",
        "  \"\"\"\n",
        "  p(\"Building classification model\", 1)\n",
        "  nb_classes = len(Y[0]) # Compute number of classes for output layer\n",
        "  size = X[0].shape # Compute images size for input layer\n",
        "\n",
        "  #Building the model\n",
        "  model = Sequential()\n",
        "  model.add(Conv2D(filters=32, kernel_size=(5,5), activation='relu', input_shape=size))\n",
        "  model.add(Conv2D(filters=32, kernel_size=(5,5), activation='relu'))\n",
        "  model.add(MaxPool2D(pool_size=(2, 2)))\n",
        "  model.add(Dropout(rate=0.25))\n",
        "  model.add(Conv2D(filters=64, kernel_size=(3, 3), activation='relu'))\n",
        "  model.add(Conv2D(filters=64, kernel_size=(3, 3), activation='relu'))\n",
        "  model.add(MaxPool2D(pool_size=(2, 2)))\n",
        "  model.add(Dropout(rate=0.25))\n",
        "  model.add(Flatten())\n",
        "  model.add(Dense(256, activation='relu'))\n",
        "  model.add(Dropout(rate=0.5))\n",
        "  model.add(Dense(nb_classes, activation='softmax')) # output layer with nb_classes\n",
        "\n",
        "  #Compilation of the model\n",
        "  model.compile(loss='categorical_crossentropy', optimizer='adam', metrics=['accuracy'])\n",
        "  p(\"...Model created !\", 1)\n",
        "\n",
        "  return model"
      ],
      "metadata": {
        "id": "rCEZVyzpb5dU"
      },
      "execution_count": null,
      "outputs": []
    },
    {
      "cell_type": "markdown",
      "source": [
        "# Convolutional Neural Network"
      ],
      "metadata": {
        "id": "ewK5-MgEEZ0z"
      }
    },
    {
      "cell_type": "markdown",
      "source": [
        "From the specified target name, I build the train and test set of features and of variable of interest."
      ],
      "metadata": {
        "id": "NO1USw63CuQf"
      }
    },
    {
      "cell_type": "code",
      "source": [
        "X_train, y_train, labels_train = build_x_and_y(DATA_DIR / ('images_' + TARGET_NAME + '_train.txt'), TARGET_NAME, IMAGE_WIDTH, IMAGE_HEIGHT)\n",
        "X_test, y_test, labels_test = build_x_and_y(DATA_DIR / ('images_' + TARGET_NAME + '_test.txt'), TARGET_NAME, IMAGE_WIDTH, IMAGE_HEIGHT)"
      ],
      "metadata": {
        "colab": {
          "base_uri": "https://localhost:8080/"
        },
        "id": "1ZU7Q3dpnTvo",
        "outputId": "65d6cda8-1d0e-4e21-f7a4-6f0965c59e88"
      },
      "execution_count": null,
      "outputs": [
        {
          "output_type": "stream",
          "name": "stdout",
          "text": [
            "06/04/2022 13:44:38 \t Building X and Y from the path : dataset/data/images_manufacturer_train.txt\n",
            "06/04/2022 13:44:38 \t\t Loading data\n",
            "06/04/2022 13:44:38 \t\t Creation of classes manufacturer\n",
            "06/04/2022 13:44:38 \t\t Importing image paths\n",
            "06/04/2022 13:44:38 \t\t Resizing images (width = 128, height = 128)\n",
            "06/04/2022 13:46:08 \t\t Creation of X and Y\n",
            "06/04/2022 13:46:08 \t ...X and Y created !\n",
            "06/04/2022 13:46:08 \t Building X and Y from the path : dataset/data/images_manufacturer_test.txt\n",
            "06/04/2022 13:46:08 \t\t Loading data\n",
            "06/04/2022 13:46:08 \t\t Creation of classes manufacturer\n",
            "06/04/2022 13:46:08 \t\t Importing image paths\n",
            "06/04/2022 13:46:08 \t\t Resizing images (width = 128, height = 128)\n",
            "06/04/2022 13:47:35 \t\t Creation of X and Y\n",
            "06/04/2022 13:47:35 \t ...X and Y created !\n"
          ]
        }
      ]
    },
    {
      "cell_type": "markdown",
      "source": [
        "Configuring the TPU"
      ],
      "metadata": {
        "id": "1RsCzawyDOtV"
      }
    },
    {
      "cell_type": "code",
      "source": [
        "try:\n",
        "  tpu = tf.distribute.cluster_resolver.TPUClusterResolver()  # TPU detection\n",
        "  print('Running on TPU ', tpu.cluster_spec().as_dict()['worker'])\n",
        "except ValueError:\n",
        "  raise BaseException('ERROR: Not connected to a TPU runtime; please see the previous cell in this notebook for instructions!')\n",
        "\n",
        "tf.config.experimental_connect_to_cluster(tpu)\n",
        "tf.tpu.experimental.initialize_tpu_system(tpu)\n",
        "tpu_strategy = tf.distribute.experimental.TPUStrategy(tpu)"
      ],
      "metadata": {
        "id": "ulL7d8A4DP_e",
        "colab": {
          "base_uri": "https://localhost:8080/"
        },
        "outputId": "3ee29ed3-c8c7-4e26-844f-4c4dfabba12d"
      },
      "execution_count": null,
      "outputs": [
        {
          "output_type": "stream",
          "name": "stdout",
          "text": [
            "Running on TPU  ['10.104.220.154:8470']\n",
            "INFO:tensorflow:Deallocate tpu buffers before initializing tpu system.\n"
          ]
        },
        {
          "output_type": "stream",
          "name": "stderr",
          "text": [
            "INFO:tensorflow:Deallocate tpu buffers before initializing tpu system.\n"
          ]
        },
        {
          "output_type": "stream",
          "name": "stdout",
          "text": [
            "WARNING:tensorflow:TPU system grpc://10.104.220.154:8470 has already been initialized. Reinitializing the TPU can cause previously created variables on TPU to be lost.\n"
          ]
        },
        {
          "output_type": "stream",
          "name": "stderr",
          "text": [
            "WARNING:tensorflow:TPU system grpc://10.104.220.154:8470 has already been initialized. Reinitializing the TPU can cause previously created variables on TPU to be lost.\n"
          ]
        },
        {
          "output_type": "stream",
          "name": "stdout",
          "text": [
            "INFO:tensorflow:Initializing the TPU system: grpc://10.104.220.154:8470\n"
          ]
        },
        {
          "output_type": "stream",
          "name": "stderr",
          "text": [
            "INFO:tensorflow:Initializing the TPU system: grpc://10.104.220.154:8470\n"
          ]
        },
        {
          "output_type": "stream",
          "name": "stdout",
          "text": [
            "INFO:tensorflow:Finished initializing TPU system.\n"
          ]
        },
        {
          "output_type": "stream",
          "name": "stderr",
          "text": [
            "INFO:tensorflow:Finished initializing TPU system.\n",
            "WARNING:absl:`tf.distribute.experimental.TPUStrategy` is deprecated, please use  the non experimental symbol `tf.distribute.TPUStrategy` instead.\n"
          ]
        },
        {
          "output_type": "stream",
          "name": "stdout",
          "text": [
            "INFO:tensorflow:Found TPU system:\n"
          ]
        },
        {
          "output_type": "stream",
          "name": "stderr",
          "text": [
            "INFO:tensorflow:Found TPU system:\n"
          ]
        },
        {
          "output_type": "stream",
          "name": "stdout",
          "text": [
            "INFO:tensorflow:*** Num TPU Cores: 8\n"
          ]
        },
        {
          "output_type": "stream",
          "name": "stderr",
          "text": [
            "INFO:tensorflow:*** Num TPU Cores: 8\n"
          ]
        },
        {
          "output_type": "stream",
          "name": "stdout",
          "text": [
            "INFO:tensorflow:*** Num TPU Workers: 1\n"
          ]
        },
        {
          "output_type": "stream",
          "name": "stderr",
          "text": [
            "INFO:tensorflow:*** Num TPU Workers: 1\n"
          ]
        },
        {
          "output_type": "stream",
          "name": "stdout",
          "text": [
            "INFO:tensorflow:*** Num TPU Cores Per Worker: 8\n"
          ]
        },
        {
          "output_type": "stream",
          "name": "stderr",
          "text": [
            "INFO:tensorflow:*** Num TPU Cores Per Worker: 8\n"
          ]
        },
        {
          "output_type": "stream",
          "name": "stdout",
          "text": [
            "INFO:tensorflow:*** Available Device: _DeviceAttributes(/job:localhost/replica:0/task:0/device:CPU:0, CPU, 0, 0)\n"
          ]
        },
        {
          "output_type": "stream",
          "name": "stderr",
          "text": [
            "INFO:tensorflow:*** Available Device: _DeviceAttributes(/job:localhost/replica:0/task:0/device:CPU:0, CPU, 0, 0)\n"
          ]
        },
        {
          "output_type": "stream",
          "name": "stdout",
          "text": [
            "INFO:tensorflow:*** Available Device: _DeviceAttributes(/job:worker/replica:0/task:0/device:CPU:0, CPU, 0, 0)\n"
          ]
        },
        {
          "output_type": "stream",
          "name": "stderr",
          "text": [
            "INFO:tensorflow:*** Available Device: _DeviceAttributes(/job:worker/replica:0/task:0/device:CPU:0, CPU, 0, 0)\n"
          ]
        },
        {
          "output_type": "stream",
          "name": "stdout",
          "text": [
            "INFO:tensorflow:*** Available Device: _DeviceAttributes(/job:worker/replica:0/task:0/device:TPU:0, TPU, 0, 0)\n"
          ]
        },
        {
          "output_type": "stream",
          "name": "stderr",
          "text": [
            "INFO:tensorflow:*** Available Device: _DeviceAttributes(/job:worker/replica:0/task:0/device:TPU:0, TPU, 0, 0)\n"
          ]
        },
        {
          "output_type": "stream",
          "name": "stdout",
          "text": [
            "INFO:tensorflow:*** Available Device: _DeviceAttributes(/job:worker/replica:0/task:0/device:TPU:1, TPU, 0, 0)\n"
          ]
        },
        {
          "output_type": "stream",
          "name": "stderr",
          "text": [
            "INFO:tensorflow:*** Available Device: _DeviceAttributes(/job:worker/replica:0/task:0/device:TPU:1, TPU, 0, 0)\n"
          ]
        },
        {
          "output_type": "stream",
          "name": "stdout",
          "text": [
            "INFO:tensorflow:*** Available Device: _DeviceAttributes(/job:worker/replica:0/task:0/device:TPU:2, TPU, 0, 0)\n"
          ]
        },
        {
          "output_type": "stream",
          "name": "stderr",
          "text": [
            "INFO:tensorflow:*** Available Device: _DeviceAttributes(/job:worker/replica:0/task:0/device:TPU:2, TPU, 0, 0)\n"
          ]
        },
        {
          "output_type": "stream",
          "name": "stdout",
          "text": [
            "INFO:tensorflow:*** Available Device: _DeviceAttributes(/job:worker/replica:0/task:0/device:TPU:3, TPU, 0, 0)\n"
          ]
        },
        {
          "output_type": "stream",
          "name": "stderr",
          "text": [
            "INFO:tensorflow:*** Available Device: _DeviceAttributes(/job:worker/replica:0/task:0/device:TPU:3, TPU, 0, 0)\n"
          ]
        },
        {
          "output_type": "stream",
          "name": "stdout",
          "text": [
            "INFO:tensorflow:*** Available Device: _DeviceAttributes(/job:worker/replica:0/task:0/device:TPU:4, TPU, 0, 0)\n"
          ]
        },
        {
          "output_type": "stream",
          "name": "stderr",
          "text": [
            "INFO:tensorflow:*** Available Device: _DeviceAttributes(/job:worker/replica:0/task:0/device:TPU:4, TPU, 0, 0)\n"
          ]
        },
        {
          "output_type": "stream",
          "name": "stdout",
          "text": [
            "INFO:tensorflow:*** Available Device: _DeviceAttributes(/job:worker/replica:0/task:0/device:TPU:5, TPU, 0, 0)\n"
          ]
        },
        {
          "output_type": "stream",
          "name": "stderr",
          "text": [
            "INFO:tensorflow:*** Available Device: _DeviceAttributes(/job:worker/replica:0/task:0/device:TPU:5, TPU, 0, 0)\n"
          ]
        },
        {
          "output_type": "stream",
          "name": "stdout",
          "text": [
            "INFO:tensorflow:*** Available Device: _DeviceAttributes(/job:worker/replica:0/task:0/device:TPU:6, TPU, 0, 0)\n"
          ]
        },
        {
          "output_type": "stream",
          "name": "stderr",
          "text": [
            "INFO:tensorflow:*** Available Device: _DeviceAttributes(/job:worker/replica:0/task:0/device:TPU:6, TPU, 0, 0)\n"
          ]
        },
        {
          "output_type": "stream",
          "name": "stdout",
          "text": [
            "INFO:tensorflow:*** Available Device: _DeviceAttributes(/job:worker/replica:0/task:0/device:TPU:7, TPU, 0, 0)\n"
          ]
        },
        {
          "output_type": "stream",
          "name": "stderr",
          "text": [
            "INFO:tensorflow:*** Available Device: _DeviceAttributes(/job:worker/replica:0/task:0/device:TPU:7, TPU, 0, 0)\n"
          ]
        },
        {
          "output_type": "stream",
          "name": "stdout",
          "text": [
            "INFO:tensorflow:*** Available Device: _DeviceAttributes(/job:worker/replica:0/task:0/device:TPU_SYSTEM:0, TPU_SYSTEM, 0, 0)\n"
          ]
        },
        {
          "output_type": "stream",
          "name": "stderr",
          "text": [
            "INFO:tensorflow:*** Available Device: _DeviceAttributes(/job:worker/replica:0/task:0/device:TPU_SYSTEM:0, TPU_SYSTEM, 0, 0)\n"
          ]
        },
        {
          "output_type": "stream",
          "name": "stdout",
          "text": [
            "INFO:tensorflow:*** Available Device: _DeviceAttributes(/job:worker/replica:0/task:0/device:XLA_CPU:0, XLA_CPU, 0, 0)\n"
          ]
        },
        {
          "output_type": "stream",
          "name": "stderr",
          "text": [
            "INFO:tensorflow:*** Available Device: _DeviceAttributes(/job:worker/replica:0/task:0/device:XLA_CPU:0, XLA_CPU, 0, 0)\n"
          ]
        }
      ]
    },
    {
      "cell_type": "markdown",
      "source": [
        "I build the classification model through a convolutional neural network."
      ],
      "metadata": {
        "id": "U_criUzeDXkt"
      }
    },
    {
      "cell_type": "code",
      "source": [
        "with tpu_strategy.scope():\n",
        "  model_CNN = build_classification_model(X_train, y_train)"
      ],
      "metadata": {
        "id": "8WTuFANDGb3-",
        "colab": {
          "base_uri": "https://localhost:8080/"
        },
        "outputId": "315192e3-1c6a-478c-cd58-4f48dbd8ef87"
      },
      "execution_count": null,
      "outputs": [
        {
          "output_type": "stream",
          "name": "stdout",
          "text": [
            "06/04/2022 13:47:44 \t Building classification model\n",
            "06/04/2022 13:47:45 \t ...Model created !\n"
          ]
        }
      ]
    },
    {
      "cell_type": "markdown",
      "source": [
        "Model training with 30 epochs."
      ],
      "metadata": {
        "id": "1yv_3ti9DlTm"
      }
    },
    {
      "cell_type": "code",
      "source": [
        "%%time\n",
        "epochs = 30\n",
        "history = model_CNN.fit(X_train, y_train, batch_size=96, epochs=epochs, validation_data=(X_test, y_test))"
      ],
      "metadata": {
        "id": "eIvJu3ewJ3GL",
        "colab": {
          "base_uri": "https://localhost:8080/"
        },
        "outputId": "f1569fe2-aab7-425a-b9ff-f38ece3913a4"
      },
      "execution_count": null,
      "outputs": [
        {
          "output_type": "stream",
          "name": "stdout",
          "text": [
            "Epoch 1/30\n",
            "35/35 [==============================] - 39s 804ms/step - loss: 35.8510 - accuracy: 0.1599 - val_loss: 3.2528 - val_accuracy: 0.2202\n",
            "Epoch 2/30\n",
            "35/35 [==============================] - 3s 83ms/step - loss: 3.0556 - accuracy: 0.2172 - val_loss: 2.9591 - val_accuracy: 0.2202\n",
            "Epoch 3/30\n",
            "35/35 [==============================] - 3s 84ms/step - loss: 2.9528 - accuracy: 0.2178 - val_loss: 2.8568 - val_accuracy: 0.2208\n",
            "Epoch 4/30\n",
            "35/35 [==============================] - 3s 83ms/step - loss: 2.8701 - accuracy: 0.2142 - val_loss: 2.7685 - val_accuracy: 0.2166\n",
            "Epoch 5/30\n",
            "35/35 [==============================] - 3s 90ms/step - loss: 2.7301 - accuracy: 0.2415 - val_loss: 2.7459 - val_accuracy: 0.2214\n",
            "Epoch 6/30\n",
            "35/35 [==============================] - 3s 86ms/step - loss: 2.5907 - accuracy: 0.2543 - val_loss: 2.6373 - val_accuracy: 0.2292\n",
            "Epoch 7/30\n",
            "35/35 [==============================] - 3s 87ms/step - loss: 2.4350 - accuracy: 0.2771 - val_loss: 2.5625 - val_accuracy: 0.2352\n",
            "Epoch 8/30\n",
            "35/35 [==============================] - 3s 88ms/step - loss: 2.1943 - accuracy: 0.3317 - val_loss: 2.4771 - val_accuracy: 0.2685\n",
            "Epoch 9/30\n",
            "35/35 [==============================] - 3s 86ms/step - loss: 1.9924 - accuracy: 0.3836 - val_loss: 2.4144 - val_accuracy: 0.2868\n",
            "Epoch 10/30\n",
            "35/35 [==============================] - 3s 84ms/step - loss: 1.7563 - accuracy: 0.4514 - val_loss: 2.3817 - val_accuracy: 0.3150\n",
            "Epoch 11/30\n",
            "35/35 [==============================] - 3s 84ms/step - loss: 1.5956 - accuracy: 0.4970 - val_loss: 2.3753 - val_accuracy: 0.3117\n",
            "Epoch 12/30\n",
            "35/35 [==============================] - 3s 82ms/step - loss: 1.3712 - accuracy: 0.5744 - val_loss: 2.3672 - val_accuracy: 0.3408\n",
            "Epoch 13/30\n",
            "35/35 [==============================] - 3s 91ms/step - loss: 1.2259 - accuracy: 0.6032 - val_loss: 2.3630 - val_accuracy: 0.3441\n",
            "Epoch 14/30\n",
            "35/35 [==============================] - 3s 91ms/step - loss: 1.1240 - accuracy: 0.6305 - val_loss: 2.3392 - val_accuracy: 0.3450\n",
            "Epoch 15/30\n",
            "35/35 [==============================] - 3s 89ms/step - loss: 0.9935 - accuracy: 0.6713 - val_loss: 2.5080 - val_accuracy: 0.3465\n",
            "Epoch 16/30\n",
            "35/35 [==============================] - 3s 86ms/step - loss: 0.8671 - accuracy: 0.7157 - val_loss: 2.4826 - val_accuracy: 0.3555\n",
            "Epoch 17/30\n",
            "35/35 [==============================] - 3s 84ms/step - loss: 0.8240 - accuracy: 0.7181 - val_loss: 2.5397 - val_accuracy: 0.3501\n",
            "Epoch 18/30\n",
            "35/35 [==============================] - 3s 86ms/step - loss: 0.7505 - accuracy: 0.7507 - val_loss: 2.5769 - val_accuracy: 0.3645\n",
            "Epoch 19/30\n",
            "35/35 [==============================] - 3s 87ms/step - loss: 0.6691 - accuracy: 0.7765 - val_loss: 2.4514 - val_accuracy: 0.3642\n",
            "Epoch 20/30\n",
            "35/35 [==============================] - 3s 84ms/step - loss: 0.6837 - accuracy: 0.7714 - val_loss: 2.6845 - val_accuracy: 0.3564\n",
            "Epoch 21/30\n",
            "35/35 [==============================] - 3s 83ms/step - loss: 0.5905 - accuracy: 0.7957 - val_loss: 2.5408 - val_accuracy: 0.3720\n",
            "Epoch 22/30\n",
            "35/35 [==============================] - 3s 84ms/step - loss: 0.5918 - accuracy: 0.8107 - val_loss: 2.6616 - val_accuracy: 0.3687\n",
            "Epoch 23/30\n",
            "35/35 [==============================] - 3s 84ms/step - loss: 0.5224 - accuracy: 0.8173 - val_loss: 2.7026 - val_accuracy: 0.3741\n",
            "Epoch 24/30\n",
            "35/35 [==============================] - 3s 84ms/step - loss: 0.4954 - accuracy: 0.8356 - val_loss: 2.8540 - val_accuracy: 0.3663\n",
            "Epoch 25/30\n",
            "35/35 [==============================] - 3s 99ms/step - loss: 0.4860 - accuracy: 0.8410 - val_loss: 2.7582 - val_accuracy: 0.3693\n",
            "Epoch 26/30\n",
            "35/35 [==============================] - 3s 83ms/step - loss: 0.4291 - accuracy: 0.8470 - val_loss: 2.7286 - val_accuracy: 0.3801\n",
            "Epoch 27/30\n",
            "35/35 [==============================] - 3s 83ms/step - loss: 0.4321 - accuracy: 0.8536 - val_loss: 2.7200 - val_accuracy: 0.3687\n",
            "Epoch 28/30\n",
            "35/35 [==============================] - 3s 85ms/step - loss: 0.4212 - accuracy: 0.8581 - val_loss: 2.7923 - val_accuracy: 0.3780\n",
            "Epoch 29/30\n",
            "35/35 [==============================] - 3s 86ms/step - loss: 0.3946 - accuracy: 0.8668 - val_loss: 2.9385 - val_accuracy: 0.3855\n",
            "Epoch 30/30\n",
            "35/35 [==============================] - 3s 83ms/step - loss: 0.3669 - accuracy: 0.8728 - val_loss: 2.9131 - val_accuracy: 0.3765\n",
            "CPU times: user 37.8 s, sys: 4.97 s, total: 42.7 s\n",
            "Wall time: 2min 9s\n"
          ]
        }
      ]
    },
    {
      "cell_type": "markdown",
      "source": [
        "I save the model and the labels in order to reuse it in a streamlit application."
      ],
      "metadata": {
        "id": "kHEdTfnEJEM0"
      }
    },
    {
      "cell_type": "code",
      "source": [
        "model_CNN.save(f'{MODELS_DIR}/CNN_{TARGET_NAME}_.h5')"
      ],
      "metadata": {
        "id": "fjLY4oS9c-jW"
      },
      "execution_count": null,
      "outputs": []
    },
    {
      "cell_type": "code",
      "source": [
        "labels = labels_test.astype('category').cat.categories.tolist()\n",
        "\n",
        "with open('labels_' + TARGET_NAME + '.yaml', 'w') as f:\n",
        "    data = yaml.dump(labels, f)"
      ],
      "metadata": {
        "id": "K7QKU5onYH4z"
      },
      "execution_count": null,
      "outputs": []
    },
    {
      "cell_type": "markdown",
      "source": [
        "# Support Vector Machine"
      ],
      "metadata": {
        "id": "IVQUuyOKgn4W"
      }
    },
    {
      "cell_type": "markdown",
      "source": [
        "Because SVM needs a two dimensional set of features, I reshape the train and test sets."
      ],
      "metadata": {
        "id": "HsAmUZsVJj1O"
      }
    },
    {
      "cell_type": "code",
      "source": [
        "X_train2, y_train2 = X_train.reshape(len(X_train), -1), np.array(labels_train)\n",
        "X_test2, y_test2 = X_test.reshape(len(X_test), -1), np.array(labels_test)"
      ],
      "metadata": {
        "id": "UHTZVJkXVnM9"
      },
      "execution_count": null,
      "outputs": []
    },
    {
      "cell_type": "markdown",
      "source": [
        "I add some preprocessing step before implementing the SVM. Firstly, I scale the features by removing the mean and scaling to the unit. Secondly, I extract the 500 first components from a PCA analysis. Then, I implement a linear SVC."
      ],
      "metadata": {
        "id": "mQ6vkBhSJtOJ"
      }
    },
    {
      "cell_type": "code",
      "source": [
        "model_SVM = Pipeline([\n",
        "('scaler', StandardScaler()),\n",
        "('pca', PCA(n_components=500)),\n",
        "('SVC', SVC(kernel='linear', gamma='auto', probability=True))\n",
        "])"
      ],
      "metadata": {
        "id": "SE50tXIcGEm0"
      },
      "execution_count": null,
      "outputs": []
    },
    {
      "cell_type": "code",
      "source": [
        "model_SVM.fit(X_train2, y_train2)"
      ],
      "metadata": {
        "colab": {
          "base_uri": "https://localhost:8080/"
        },
        "id": "KW0_hxl2GURj",
        "outputId": "9549cdc2-5ab6-488d-f421-0984e9c9141c"
      },
      "execution_count": null,
      "outputs": [
        {
          "output_type": "execute_result",
          "data": {
            "text/plain": [
              "Pipeline(steps=[('scaler', StandardScaler()), ('pca', PCA(n_components=500)),\n",
              "                ('SVC', SVC(gamma='auto', kernel='linear', probability=True))])"
            ]
          },
          "metadata": {},
          "execution_count": 45
        }
      ]
    },
    {
      "cell_type": "markdown",
      "source": [
        "I save the model."
      ],
      "metadata": {
        "id": "YAH8GCgQKyBk"
      }
    },
    {
      "cell_type": "code",
      "source": [
        "pickle.dump(model_SVM, open(f'{MODELS_DIR}/SVM_{TARGET_NAME}_.pkl', 'wb'))"
      ],
      "metadata": {
        "id": "waorFeK4NC9p"
      },
      "execution_count": null,
      "outputs": []
    },
    {
      "cell_type": "markdown",
      "source": [
        "# Evaluation"
      ],
      "metadata": {
        "id": "LyvQzlz2SqqO"
      }
    },
    {
      "cell_type": "markdown",
      "source": [
        "The next code allows to compare the confusion matrix on the test set: CNN vs SVM"
      ],
      "metadata": {
        "id": "9x8Wwmi0LWXt"
      }
    },
    {
      "cell_type": "code",
      "source": [
        "proba_CNN = model_CNN.predict(X_test)\n",
        "classe_CNN = np.argmax(proba_CNN, axis=1)\n",
        "lab_classe_CNN = np.array(labels_test.astype('category').cat.categories[classe_CNN])\n",
        "\n",
        "fig, ax = plt.subplots(figsize=(12, 10))\n",
        "sns.heatmap(pd.crosstab(labels_test,\n",
        "                        lab_classe_CNN,\n",
        "                        normalize='index'),\n",
        "            cmap='vlag',\n",
        "            ax=ax);"
      ],
      "metadata": {
        "id": "3o1XQSRcxFbj",
        "outputId": "49031b13-dd2b-46dc-ce72-1e46d8e46c10",
        "colab": {
          "base_uri": "https://localhost:8080/",
          "height": 727
        }
      },
      "execution_count": null,
      "outputs": [
        {
          "output_type": "display_data",
          "data": {
            "text/plain": [
              "<Figure size 864x720 with 2 Axes>"
            ],
            "image/png": "[encoded data removed]"
          },
          "metadata": {
            "needs_background": "light"
          }
        }
      ]
    },
    {
      "cell_type": "code",
      "source": [
        "proba_SVM = model_SVM.predict_proba(X_test2)\n",
        "classe_SVM = np.argmax(proba_SVM, axis=1)\n",
        "lab_classe_SVM = np.array(labels_test.astype('category').cat.categories[classe_SVM])\n",
        "\n",
        "fig, ax = plt.subplots(figsize=(12, 10))\n",
        "sns.heatmap(pd.crosstab(labels_test,\n",
        "                        lab_classe_SVM,\n",
        "                        normalize='index'),\n",
        "            cmap='vlag',\n",
        "            ax=ax);"
      ],
      "metadata": {
        "colab": {
          "base_uri": "https://localhost:8080/",
          "height": 731
        },
        "id": "2DsG0ah_-Gqm",
        "outputId": "09afa886-c827-4e5b-a295-0ddf89200d1b"
      },
      "execution_count": null,
      "outputs": [
        {
          "output_type": "display_data",
          "data": {
            "text/plain": [
              "<Figure size 864x720 with 2 Axes>"
            ],
            "image/png": "[encoded data removed]"
          },
          "metadata": {
            "needs_background": "light"
          }
        }
      ]
    },
    {
      "cell_type": "code",
      "source": [
        "print(f\"Accuracy du modèle CNN : {round(100*np.mean(lab_classe_CNN == labels_test), 2)} %\")\n",
        "print(f\"Accuracy du modèle SVM : {round(100*np.mean(lab_classe_SVM == labels_test), 2)} %\")"
      ],
      "metadata": {
        "colab": {
          "base_uri": "https://localhost:8080/"
        },
        "id": "xoDcR8eoRuZk",
        "outputId": "90b8286a-d9f5-4035-82f8-5d5581727778"
      },
      "execution_count": null,
      "outputs": [
        {
          "output_type": "stream",
          "name": "stdout",
          "text": [
            "Accuracy du modèle CNN : 26.73 %\n",
            "Accuracy du modèle SVM : 25.44 %\n"
          ]
        }
      ]
    },
    {
      "cell_type": "markdown",
      "source": [
        "# Essais pour streamlit"
      ],
      "metadata": {
        "id": "cl8HWpSeHTnH"
      }
    },
    {
      "cell_type": "code",
      "source": [
        "proba_CNN = model_CNN.predict(X_test)\n",
        "classe_CNN = np.argmax(proba_CNN, axis=1)\n",
        "lab_classe_CNN = np.array(labels_test.astype('category').cat.categories[classe_CNN])"
      ],
      "metadata": {
        "id": "YkO80xkBHiBf"
      },
      "execution_count": null,
      "outputs": []
    },
    {
      "cell_type": "code",
      "source": [
        "model_CNN.predict(X_test[1,:,:,:])"
      ],
      "metadata": {
        "id": "eTjLcwlkJbAc"
      },
      "execution_count": null,
      "outputs": []
    },
    {
      "cell_type": "code",
      "source": [
        "!pip uninstall matplotlib"
      ],
      "metadata": {
        "colab": {
          "base_uri": "https://localhost:8080/"
        },
        "id": "F-_gOX7qO7QM",
        "outputId": "d5302ce5-9e64-4da5-ccb5-0ceeec715b5b"
      },
      "execution_count": null,
      "outputs": [
        {
          "output_type": "stream",
          "name": "stdout",
          "text": [
            "Found existing installation: matplotlib 3.5.1\n",
            "Uninstalling matplotlib-3.5.1:\n",
            "  Would remove:\n",
            "    /usr/local/lib/python3.7/dist-packages/matplotlib-3.5.1-py3.7-nspkg.pth\n",
            "    /usr/local/lib/python3.7/dist-packages/matplotlib-3.5.1.dist-info/*\n",
            "    /usr/local/lib/python3.7/dist-packages/matplotlib/*\n",
            "    /usr/local/lib/python3.7/dist-packages/mpl_toolkits/axes_grid/*\n",
            "    /usr/local/lib/python3.7/dist-packages/mpl_toolkits/axes_grid1/*\n",
            "    /usr/local/lib/python3.7/dist-packages/mpl_toolkits/axisartist/*\n",
            "    /usr/local/lib/python3.7/dist-packages/mpl_toolkits/mplot3d/*\n",
            "    /usr/local/lib/python3.7/dist-packages/mpl_toolkits/tests/*\n",
            "    /usr/local/lib/python3.7/dist-packages/pylab.py\n",
            "Proceed (y/n)? \u001b[31mERROR: Operation cancelled by user\u001b[0m\n"
          ]
        }
      ]
    },
    {
      "cell_type": "code",
      "source": [
        "!pip install matplotlib==3.5.1"
      ],
      "metadata": {
        "colab": {
          "base_uri": "https://localhost:8080/"
        },
        "id": "7N8RADqrOgac",
        "outputId": "06e36186-b435-4534-8323-e6d191ddd1f9"
      },
      "execution_count": null,
      "outputs": [
        {
          "output_type": "stream",
          "name": "stdout",
          "text": [
            "Requirement already satisfied: matplotlib==3.5.1 in /usr/local/lib/python3.7/dist-packages (3.5.1)\n",
            "Requirement already satisfied: pyparsing>=2.2.1 in /usr/local/lib/python3.7/dist-packages (from matplotlib==3.5.1) (3.0.7)\n",
            "Requirement already satisfied: packaging>=20.0 in /usr/local/lib/python3.7/dist-packages (from matplotlib==3.5.1) (21.3)\n",
            "Requirement already satisfied: python-dateutil>=2.7 in /usr/local/lib/python3.7/dist-packages (from matplotlib==3.5.1) (2.8.2)\n",
            "Requirement already satisfied: numpy>=1.17 in /usr/local/lib/python3.7/dist-packages (from matplotlib==3.5.1) (1.21.5)\n",
            "Requirement already satisfied: pillow>=6.2.0 in /usr/local/lib/python3.7/dist-packages (from matplotlib==3.5.1) (7.1.2)\n",
            "Requirement already satisfied: kiwisolver>=1.0.1 in /usr/local/lib/python3.7/dist-packages (from matplotlib==3.5.1) (1.4.0)\n",
            "Requirement already satisfied: cycler>=0.10 in /usr/local/lib/python3.7/dist-packages (from matplotlib==3.5.1) (0.11.0)\n",
            "Requirement already satisfied: fonttools>=4.22.0 in /usr/local/lib/python3.7/dist-packages (from matplotlib==3.5.1) (4.31.2)\n",
            "Requirement already satisfied: typing-extensions in /usr/local/lib/python3.7/dist-packages (from kiwisolver>=1.0.1->matplotlib==3.5.1) (3.10.0.2)\n",
            "Requirement already satisfied: six>=1.5 in /usr/local/lib/python3.7/dist-packages (from python-dateutil>=2.7->matplotlib==3.5.1) (1.15.0)\n"
          ]
        }
      ]
    },
    {
      "cell_type": "code",
      "source": [
        "import matplotlib"
      ],
      "metadata": {
        "id": "owfG_WZvO1ek"
      },
      "execution_count": null,
      "outputs": []
    },
    {
      "cell_type": "code",
      "source": [
        "np.char.add(np.round(proba_CNN[1,:]*100, 2).astype('str'), \"%\")"
      ],
      "metadata": {
        "colab": {
          "base_uri": "https://localhost:8080/"
        },
        "id": "HUghyKD3KRa_",
        "outputId": "ded3a43e-950e-4a28-c546-6665ad4183d2"
      },
      "execution_count": null,
      "outputs": [
        {
          "output_type": "execute_result",
          "data": {
            "text/plain": [
              "array(['0.0%', '14.4%', '0.0%', '0.13%', '50.59%', '0.0%', '0.17%',\n",
              "       '0.05%', '0.01%', '0.0%', '0.12%', '0.04%', '0.03%', '0.04%',\n",
              "       '0.1%', '0.0%', '0.03%', '0.28%', '0.0%', '0.05%', '0.05%',\n",
              "       '2.19%', '0.0%', '0.0%', '0.0%', '28.68%', '0.43%', '0.19%',\n",
              "       '0.04%', '2.37%'], dtype='<U33')"
            ]
          },
          "metadata": {},
          "execution_count": 149
        }
      ]
    },
    {
      "cell_type": "code",
      "source": [
        "ax = sns.barplot(y=labels, x=proba_CNN[1,:], palette=\"Blues_d\")\n",
        "ax.bar_label(ax.containers[0])"
      ],
      "metadata": {
        "colab": {
          "base_uri": "https://localhost:8080/",
          "height": 431
        },
        "id": "AL5bdEt6HX_m",
        "outputId": "847bd745-b7cb-4260-bb22-dba9c3d16f08"
      },
      "execution_count": null,
      "outputs": [
        {
          "output_type": "error",
          "ename": "AttributeError",
          "evalue": "ignored",
          "traceback": [
            "\u001b[0;31m---------------------------------------------------------------------------\u001b[0m",
            "\u001b[0;31mAttributeError\u001b[0m                            Traceback (most recent call last)",
            "\u001b[0;32m<ipython-input-129-7faa4eb75e39>\u001b[0m in \u001b[0;36m<module>\u001b[0;34m()\u001b[0m\n\u001b[1;32m      1\u001b[0m \u001b[0max\u001b[0m \u001b[0;34m=\u001b[0m \u001b[0msns\u001b[0m\u001b[0;34m.\u001b[0m\u001b[0mbarplot\u001b[0m\u001b[0;34m(\u001b[0m\u001b[0my\u001b[0m\u001b[0;34m=\u001b[0m\u001b[0mlabels\u001b[0m\u001b[0;34m,\u001b[0m \u001b[0mx\u001b[0m\u001b[0;34m=\u001b[0m\u001b[0mproba_CNN\u001b[0m\u001b[0;34m[\u001b[0m\u001b[0;36m1\u001b[0m\u001b[0;34m,\u001b[0m\u001b[0;34m:\u001b[0m\u001b[0;34m]\u001b[0m\u001b[0;34m,\u001b[0m \u001b[0mpalette\u001b[0m\u001b[0;34m=\u001b[0m\u001b[0;34m\"Blues_d\"\u001b[0m\u001b[0;34m)\u001b[0m\u001b[0;34m\u001b[0m\u001b[0;34m\u001b[0m\u001b[0m\n\u001b[0;32m----> 2\u001b[0;31m \u001b[0max\u001b[0m\u001b[0;34m.\u001b[0m\u001b[0mbar_label\u001b[0m\u001b[0;34m(\u001b[0m\u001b[0max\u001b[0m\u001b[0;34m.\u001b[0m\u001b[0mcontainers\u001b[0m\u001b[0;34m[\u001b[0m\u001b[0;36m0\u001b[0m\u001b[0;34m]\u001b[0m\u001b[0;34m)\u001b[0m\u001b[0;34m\u001b[0m\u001b[0;34m\u001b[0m\u001b[0m\n\u001b[0m",
            "\u001b[0;31mAttributeError\u001b[0m: 'AxesSubplot' object has no attribute 'bar_label'"
          ]
        },
        {
          "output_type": "display_data",
          "data": {
            "text/plain": [
              "<Figure size 432x288 with 1 Axes>"
            ],
            "image/png": "[encoded data removed]"
          },
          "metadata": {
            "needs_background": "light"
          }
        }
      ]
    }
  ]
}